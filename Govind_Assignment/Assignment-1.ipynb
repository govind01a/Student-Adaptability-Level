{
 "cells": [
  {
   "cell_type": "markdown",
   "id": "1dbf3bc4",
   "metadata": {},
   "source": [
    "# Assignment-1 "
   ]
  },
  {
   "cell_type": "markdown",
   "id": "d84bd401",
   "metadata": {},
   "source": [
    "## Name: Govind Agarwal\n",
    "## Reg. No.: 20BCE1618"
   ]
  },
  {
   "cell_type": "markdown",
   "id": "9158d1c5",
   "metadata": {},
   "source": [
    "#### Q1) Assign your Name to variable name and Age to variable age. Make a Python program that prints your name and age."
   ]
  },
  {
   "cell_type": "code",
   "execution_count": 3,
   "id": "b8c9bbac",
   "metadata": {},
   "outputs": [
    {
     "name": "stdout",
     "output_type": "stream",
     "text": [
      "Name:  Govind Agarwal \n",
      "Age: 21\n"
     ]
    }
   ],
   "source": [
    "name = \"Govind Agarwal\"\n",
    "age = 21\n",
    "print(\"Name: \",name,\"\\nAge:\",age)"
   ]
  },
  {
   "cell_type": "markdown",
   "id": "13334ff6",
   "metadata": {},
   "source": [
    "#### Q2) X=\"Datascience is used to extract meaningful insights.\" Split the string"
   ]
  },
  {
   "cell_type": "code",
   "execution_count": 5,
   "id": "b6028df5",
   "metadata": {},
   "outputs": [
    {
     "data": {
      "text/plain": [
       "['Datascience', 'is', 'used', 'to', 'extract', 'meaningful', 'insights.']"
      ]
     },
     "execution_count": 5,
     "metadata": {},
     "output_type": "execute_result"
    }
   ],
   "source": [
    "X= \"Datascience is used to extract meaningful insights.\"\n",
    "arr = X.split()\n",
    "arr"
   ]
  },
  {
   "cell_type": "markdown",
   "id": "be1adf88",
   "metadata": {},
   "source": [
    "#### Q3) Make a function that gives multiplication of two numbers"
   ]
  },
  {
   "cell_type": "code",
   "execution_count": 7,
   "id": "a0d503e0",
   "metadata": {},
   "outputs": [
    {
     "name": "stdout",
     "output_type": "stream",
     "text": [
      "12\n"
     ]
    }
   ],
   "source": [
    "def mul(a,b):\n",
    "    return a*b\n",
    "print(mul(3,4))"
   ]
  },
  {
   "cell_type": "markdown",
   "id": "e103551e",
   "metadata": {},
   "source": [
    "#### Q4) Create a Dictionary of 5 States with their capitals. also print the keys and values."
   ]
  },
  {
   "cell_type": "code",
   "execution_count": 9,
   "id": "392ceb4f",
   "metadata": {},
   "outputs": [
    {
     "name": "stdout",
     "output_type": "stream",
     "text": [
      "Bihar---->Patna\n",
      "Karnataka---->Bengaluru\n",
      "Rajasthan---->Jaipur\n",
      "Manipur---->Imphal\n",
      "Sikkim---->Gangtok\n"
     ]
    }
   ],
   "source": [
    "geo = {\"Bihar\":\"Patna\",\"Karnataka\":\"Bengaluru\",\"Rajasthan\":\"Jaipur\",\"Manipur\":\"Imphal\",\"Sikkim\":\"Gangtok\"}\n",
    "for ky,itm in geo.items():\n",
    "    print(ky+\"---->\"+itm)"
   ]
  },
  {
   "cell_type": "markdown",
   "id": "b3b188ce",
   "metadata": {},
   "source": [
    "#### Q5) Create a list of 1000 numbers using range function."
   ]
  },
  {
   "cell_type": "code",
   "execution_count": 13,
   "id": "402cc190",
   "metadata": {},
   "outputs": [],
   "source": [
    "lst = list()\n",
    "for i in range(1,1001):\n",
    "    lst.append(i)"
   ]
  },
  {
   "cell_type": "markdown",
   "id": "4b623714",
   "metadata": {},
   "source": [
    "#### Q6) Create an identity matrix of dimension 4 by 4"
   ]
  },
  {
   "cell_type": "code",
   "execution_count": 14,
   "id": "cd45a6c8",
   "metadata": {},
   "outputs": [
    {
     "data": {
      "text/plain": [
       "array([[1., 0., 0., 0.],\n",
       "       [0., 1., 0., 0.],\n",
       "       [0., 0., 1., 0.],\n",
       "       [0., 0., 0., 1.]])"
      ]
     },
     "execution_count": 14,
     "metadata": {},
     "output_type": "execute_result"
    }
   ],
   "source": [
    "import numpy as np\n",
    "\n",
    "np.identity(4)"
   ]
  },
  {
   "cell_type": "markdown",
   "id": "77e23058",
   "metadata": {},
   "source": [
    "#### Q7) Create a 3x3 matrix with values ranging from 1 to 9."
   ]
  },
  {
   "cell_type": "code",
   "execution_count": 17,
   "id": "d2ceafad",
   "metadata": {},
   "outputs": [
    {
     "data": {
      "text/plain": [
       "array([[1, 2, 3],\n",
       "       [4, 5, 6],\n",
       "       [7, 8, 9]])"
      ]
     },
     "execution_count": 17,
     "metadata": {},
     "output_type": "execute_result"
    }
   ],
   "source": [
    "np.arange(1, 10).reshape(3,3)"
   ]
  },
  {
   "cell_type": "markdown",
   "id": "e227c663",
   "metadata": {},
   "source": [
    "#### Q8) Create 2 similar dimensional array and perform sum on them."
   ]
  },
  {
   "cell_type": "code",
   "execution_count": 35,
   "id": "6ac6010f",
   "metadata": {},
   "outputs": [
    {
     "name": "stdout",
     "output_type": "stream",
     "text": [
      "X:  [10 11 12 13 14]\n",
      "Y:  [20 21 22 23 24]\n",
      "Sum: [30 32 34 36 38]\n"
     ]
    }
   ],
   "source": [
    "x = np.arange(10,15)\n",
    "print(\"X: \",x)\n",
    "y = np.arange(20,25)\n",
    "print(\"Y: \",y)\n",
    "res = x+y\n",
    "print(\"Sum:\",res)"
   ]
  },
  {
   "cell_type": "markdown",
   "id": "44065ef3",
   "metadata": {},
   "source": [
    "#### Q9) Generate the series of dates from 1st Feb, 2023 to 1st March, 2023 (both inclusive)"
   ]
  },
  {
   "cell_type": "code",
   "execution_count": 38,
   "id": "f4683ba4",
   "metadata": {},
   "outputs": [
    {
     "data": {
      "text/plain": [
       "0    2023-02-01\n",
       "1    2023-02-02\n",
       "2    2023-02-03\n",
       "3    2023-02-04\n",
       "4    2023-02-05\n",
       "5    2023-02-06\n",
       "6    2023-02-07\n",
       "7    2023-02-08\n",
       "8    2023-02-09\n",
       "9    2023-02-10\n",
       "10   2023-02-11\n",
       "11   2023-02-12\n",
       "12   2023-02-13\n",
       "13   2023-02-14\n",
       "14   2023-02-15\n",
       "15   2023-02-16\n",
       "16   2023-02-17\n",
       "17   2023-02-18\n",
       "18   2023-02-19\n",
       "19   2023-02-20\n",
       "20   2023-02-21\n",
       "21   2023-02-22\n",
       "22   2023-02-23\n",
       "23   2023-02-24\n",
       "24   2023-02-25\n",
       "25   2023-02-26\n",
       "26   2023-02-27\n",
       "27   2023-02-28\n",
       "28   2023-03-01\n",
       "dtype: datetime64[ns]"
      ]
     },
     "execution_count": 38,
     "metadata": {},
     "output_type": "execute_result"
    }
   ],
   "source": [
    "import pandas as pd\n",
    "sr = pd.Series(pd.date_range(start ='2-1-2023', end ='3-1-2023'))\n",
    "sr"
   ]
  },
  {
   "cell_type": "markdown",
   "id": "d74448f4",
   "metadata": {},
   "source": [
    "#### Q10) Given a dictionary, convert it into corresponding dataframe and display it dictionary = {'Brand': ['Maruti', 'Renault', 'Hyndai'], 'Sales' : [250, 200, 240]}"
   ]
  },
  {
   "cell_type": "code",
   "execution_count": 21,
   "id": "b0a79016",
   "metadata": {},
   "outputs": [
    {
     "data": {
      "text/html": [
       "<div>\n",
       "<style scoped>\n",
       "    .dataframe tbody tr th:only-of-type {\n",
       "        vertical-align: middle;\n",
       "    }\n",
       "\n",
       "    .dataframe tbody tr th {\n",
       "        vertical-align: top;\n",
       "    }\n",
       "\n",
       "    .dataframe thead th {\n",
       "        text-align: right;\n",
       "    }\n",
       "</style>\n",
       "<table border=\"1\" class=\"dataframe\">\n",
       "  <thead>\n",
       "    <tr style=\"text-align: right;\">\n",
       "      <th></th>\n",
       "      <th>Brand</th>\n",
       "      <th>Sales</th>\n",
       "    </tr>\n",
       "  </thead>\n",
       "  <tbody>\n",
       "    <tr>\n",
       "      <th>0</th>\n",
       "      <td>Maruti</td>\n",
       "      <td>250</td>\n",
       "    </tr>\n",
       "    <tr>\n",
       "      <th>1</th>\n",
       "      <td>Renault</td>\n",
       "      <td>200</td>\n",
       "    </tr>\n",
       "    <tr>\n",
       "      <th>2</th>\n",
       "      <td>Hyndai</td>\n",
       "      <td>240</td>\n",
       "    </tr>\n",
       "  </tbody>\n",
       "</table>\n",
       "</div>"
      ],
      "text/plain": [
       "     Brand  Sales\n",
       "0   Maruti    250\n",
       "1  Renault    200\n",
       "2   Hyndai    240"
      ]
     },
     "execution_count": 21,
     "metadata": {},
     "output_type": "execute_result"
    }
   ],
   "source": [
    "dictionary = {'Brand': ['Maruti', 'Renault', 'Hyndai'], 'Sales' : [250, 200, 240]}\n",
    "df = pd.DataFrame(dictionary)\n",
    "df"
   ]
  }
 ],
 "metadata": {
  "kernelspec": {
   "display_name": "Python 3 (ipykernel)",
   "language": "python",
   "name": "python3"
  },
  "language_info": {
   "codemirror_mode": {
    "name": "ipython",
    "version": 3
   },
   "file_extension": ".py",
   "mimetype": "text/x-python",
   "name": "python",
   "nbconvert_exporter": "python",
   "pygments_lexer": "ipython3",
   "version": "3.10.5"
  }
 },
 "nbformat": 4,
 "nbformat_minor": 5
}
